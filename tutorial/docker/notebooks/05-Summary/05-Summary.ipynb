{
 "cells": [
  {
   "cell_type": "markdown",
   "metadata": {},
   "source": [
    "# Summary\n",
    "\n",
    "\n",
    "## Support\n",
    "\n",
    "We love to keep up with all the ways in which Pegasus is applied. Regardless of subject or field, the Pegasus Team wants to know how our users are benefiting from Pegasus and how we can continue to better the Pegasus Workflow Management System. Please do not hesitate to get in touch with our team, whether it is to make us aware of your work, contribute feedback, or ask for support.\n",
    "\n",
    "For support, please use our public mailing list **pegasus-users@isi.edu**:\n",
    "\n",
    " * [Subscribe / unsubscribe/ Archive](https://groups.google.com/a/isi.edu/g/pegasus-users)\n",
    " \n",
    "If you are only interesting in annoucements, please subscribe to **pegasus-announce@isi.edu**\n",
    "\n",
    " * [Subscribe / unsubscribe/ Archive](https://groups.google.com/a/isi.edu/g/pegasus-announce)\n",

    "\n",
    "Private support requests and bug reports can be emailed to **pegasus-support@isi.edu**. Emails to this address go to a group of Pegasus team members, and is not public.\n",
    "\n",
    "## Slack\n",
    "\n",
    "We encourage you to join the Slack Workspace as it is an on-going, open forum for all Pegasus users to share ideas, experiences, and talk out issues with the Pegasus Development team. Please ask for an invite by trying to join **pegasus-users.slack.com** in the Slack app, or send an email to pegasus-support@isi.edu and request an invite.\n",
    "\n",
    "## Office Hours\n",
    "\n",
    "Pegasus team holds online Pegasus Office Hours every week. You can find more details [here](https://pegasus.isi.edu/office-hours/)\n",
    "\n",
    "\n",
    "## Citing/acknowledging Pegasus\n",
    "\n",
    "If you use Pegasus to process data for your publications, please consider citing Pegasus. Additionally, we kindly ask that you include the NSF funding statement in your acknowledgements.\n",
    "\n",
    "The preferred generic way to cite Pegasus is:\n",
    " \n",
    "    E. Deelman, K. Vahi, G. Juve, M. Rynge, S. Callaghan, P. J. Maechling, R. Mayani, W. Chen, R. Ferreira da Silva, M. Livny, and K. Wenger, “Pegasus: a Workflow Management System for Science Automation,” Future Generation Computer Systems, vol. 46, p. 17–35, 2015.,\n",
    "\n",
    "\n",
    "Bibtex and a PDF of the paper is availalbe on the [Pegasus Website](https://pegasus.isi.edu/about/acknowledge/)\n",
    " \n",
    "A suggested statement to acknowledge The National Science Foundation‘s support of Pegasus in the `Acknowledgments` section of your work:\n",
    "\n",
    "    This research used the Pegasus Workflow Management Software funded by the National Science Foundation under grant #1664162.\n",
    "\n",
    "\n",
    "## Pegasus slide in your presentations\n",
    "\n",
    "If you want to talk about Pegasus in your own presentations, feel free to include this overview slide. It can be downloaded from the [Pegasus Website](https://pegasus.isi.edu/about/acknowledge/)\n",
    "\n",
    "![Pegasus Slide](../images/pegasus-slide.png)\n"
   ]
  },
  {
   "cell_type": "code",
   "execution_count": null,
   "metadata": {},
   "outputs": [],
   "source": []
  }
 ],
 "metadata": {
  "kernelspec": {
   "display_name": "Python 3",
   "language": "python",
   "name": "python3"
  },
  "language_info": {
   "codemirror_mode": {
    "name": "ipython",
    "version": 3
   },
   "file_extension": ".py",
   "mimetype": "text/x-python",
   "name": "python",
   "nbconvert_exporter": "python",
   "pygments_lexer": "ipython3",
   "version": "3.6.8"
  }
 },
 "nbformat": 4,
 "nbformat_minor": 4
}
